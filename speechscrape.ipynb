{
 "metadata": {
  "name": "",
  "signature": "sha256:35e4123a91a26c9601590b30155b96916dc2e2b41eab53c1aa136ce0fd00279d"
 },
 "nbformat": 3,
 "nbformat_minor": 0,
 "worksheets": [
  {
   "cells": [
    {
     "cell_type": "heading",
     "level": 1,
     "metadata": {},
     "source": [
      "Iterates across the S public remarks from 2014"
     ]
    },
    {
     "cell_type": "markdown",
     "metadata": {},
     "source": [
      "and returns a dict called 'remarks_dict' where each key is a month string from '01' to '12' and each value is a list of remarks from that month.\n",
      "\n",
      "For example, access January's remarks by calling:\n",
      "remarks_dict['01']"
     ]
    },
    {
     "cell_type": "heading",
     "level": 3,
     "metadata": {},
     "source": [
      "Imports and Functions"
     ]
    },
    {
     "cell_type": "code",
     "collapsed": false,
     "input": [
      "from bs4 import BeautifulSoup\n",
      "import urllib2"
     ],
     "language": "python",
     "metadata": {},
     "outputs": [],
     "prompt_number": 1
    },
    {
     "cell_type": "markdown",
     "metadata": {},
     "source": [
      "Here I set up the *months* variable for iterating across the state.gov pages. Note that I convert each *month* to a string."
     ]
    },
    {
     "cell_type": "code",
     "collapsed": false,
     "input": [
      "months = []\n",
      "for month in range(1,13):\n",
      "    if month < 10:\n",
      "        month_i = \"0\" + str(month)\n",
      "    else:\n",
      "        month_i = str(month)\n",
      "    months.append(month_i)\n",
      "\n",
      "print months"
     ],
     "language": "python",
     "metadata": {},
     "outputs": [
      {
       "output_type": "stream",
       "stream": "stdout",
       "text": [
        "['01', '02', '03', '04', '05', '06', '07', '08', '09', '10', '11', '12']\n"
       ]
      }
     ],
     "prompt_number": 39
    },
    {
     "cell_type": "markdown",
     "metadata": {},
     "source": [
      "This defines a function to grab the html of the site. Pass variable *month* which is plugged into the url within the request"
     ]
    },
    {
     "cell_type": "code",
     "collapsed": false,
     "input": [
      "def get_soup(month):\n",
      "    request = urllib2.Request(\"http://www.state.gov/secretary/remarks/2014/\" + month + \"/index.htm\")\n",
      "    response = urllib2.urlopen(request)\n",
      "    global soup\n",
      "    soup = BeautifulSoup(response)\n",
      "    return soup"
     ],
     "language": "python",
     "metadata": {},
     "outputs": [],
     "prompt_number": 3
    },
    {
     "cell_type": "markdown",
     "metadata": {},
     "source": [
      "This defines a function that grabs all the links within the #tier3-landing-content-wide div of the site. These are the links to the remarks."
     ]
    },
    {
     "cell_type": "code",
     "collapsed": false,
     "input": [
      "def get_links(soup):\n",
      "    global links\n",
      "    links = []\n",
      "    for div in soup.findAll('div', {'id': 'tier3-landing-content-wide'}):\n",
      "        for a in div.findAll('a'):\n",
      "            links.append(a['href'])\n",
      "    print str(len(links)) + \" links were found\"\n",
      "    return links"
     ],
     "language": "python",
     "metadata": {},
     "outputs": [],
     "prompt_number": 4
    },
    {
     "cell_type": "markdown",
     "metadata": {},
     "source": [
      "This defines a function that grabs the remarks from the #centerblock div of the remarks page."
     ]
    },
    {
     "cell_type": "code",
     "collapsed": false,
     "input": [
      "def get_remarks(links):\n",
      "    global remarks\n",
      "    remarks = []\n",
      "\n",
      "    for link in links:\n",
      "        request = urllib2.Request(link)\n",
      "        response = urllib2.urlopen(request)\n",
      "        soup = BeautifulSoup(response)\n",
      "\n",
      "        remark = str()\n",
      "        for div in soup.findAll('div', {'id': 'centerblock'}):\n",
      "            for p in div.findAll('p'):\n",
      "                remark += p.text\n",
      "\n",
      "        remarks.append(remark)\n",
      "    print str(len(remarks)) + \" remarks were found\"\n",
      "    return remarks"
     ],
     "language": "python",
     "metadata": {},
     "outputs": [],
     "prompt_number": 5
    },
    {
     "cell_type": "heading",
     "level": 3,
     "metadata": {},
     "source": [
      "Putting it all together"
     ]
    },
    {
     "cell_type": "markdown",
     "metadata": {},
     "source": [
      "Here a dict called *remarks_dict* is built by iterating through each month in *months*. The dict contains the remarks for each month returned as a comma separated list."
     ]
    },
    {
     "cell_type": "code",
     "collapsed": false,
     "input": [
      "remarks_dict = {}\n",
      "\n",
      "for month in months:\n",
      "    get_soup(month)\n",
      "\n",
      "    get_links(soup)\n",
      "    get_remarks(links)\n",
      "    \n",
      "    remarks_dict[month] = remarks"
     ],
     "language": "python",
     "metadata": {},
     "outputs": [
      {
       "output_type": "stream",
       "stream": "stdout",
       "text": [
        "48 links were found\n",
        "48 remarks were found"
       ]
      },
      {
       "output_type": "stream",
       "stream": "stdout",
       "text": [
        "\n",
        "61 links were found"
       ]
      },
      {
       "output_type": "stream",
       "stream": "stdout",
       "text": [
        "\n",
        "61 remarks were found"
       ]
      },
      {
       "output_type": "stream",
       "stream": "stdout",
       "text": [
        "\n",
        "50 links were found"
       ]
      },
      {
       "output_type": "stream",
       "stream": "stdout",
       "text": [
        "\n",
        "50 remarks were found"
       ]
      },
      {
       "output_type": "stream",
       "stream": "stdout",
       "text": [
        "\n",
        "63 links were found"
       ]
      },
      {
       "output_type": "stream",
       "stream": "stdout",
       "text": [
        "\n",
        "63 remarks were found"
       ]
      },
      {
       "output_type": "stream",
       "stream": "stdout",
       "text": [
        "\n",
        "78 links were found"
       ]
      },
      {
       "output_type": "stream",
       "stream": "stdout",
       "text": [
        "\n",
        "78 remarks were found"
       ]
      },
      {
       "output_type": "stream",
       "stream": "stdout",
       "text": [
        "\n",
        "98 links were found"
       ]
      },
      {
       "output_type": "stream",
       "stream": "stdout",
       "text": [
        "\n",
        "98 remarks were found"
       ]
      },
      {
       "output_type": "stream",
       "stream": "stdout",
       "text": [
        "\n",
        "83 links were found"
       ]
      },
      {
       "output_type": "stream",
       "stream": "stdout",
       "text": [
        "\n",
        "83 remarks were found"
       ]
      },
      {
       "output_type": "stream",
       "stream": "stdout",
       "text": [
        "\n",
        "83 links were found"
       ]
      },
      {
       "output_type": "stream",
       "stream": "stdout",
       "text": [
        "\n",
        "83 remarks were found"
       ]
      },
      {
       "output_type": "stream",
       "stream": "stdout",
       "text": [
        "\n",
        "94 links were found"
       ]
      },
      {
       "output_type": "stream",
       "stream": "stdout",
       "text": [
        "\n",
        "94 remarks were found"
       ]
      },
      {
       "output_type": "stream",
       "stream": "stdout",
       "text": [
        "\n",
        "65 links were found"
       ]
      },
      {
       "output_type": "stream",
       "stream": "stdout",
       "text": [
        "\n",
        "65 remarks were found"
       ]
      },
      {
       "output_type": "stream",
       "stream": "stdout",
       "text": [
        "\n",
        "41 links were found"
       ]
      },
      {
       "output_type": "stream",
       "stream": "stdout",
       "text": [
        "\n",
        "41 remarks were found"
       ]
      },
      {
       "output_type": "stream",
       "stream": "stdout",
       "text": [
        "\n",
        "61 links were found"
       ]
      },
      {
       "output_type": "stream",
       "stream": "stdout",
       "text": [
        "\n",
        "61 remarks were found"
       ]
      },
      {
       "output_type": "stream",
       "stream": "stdout",
       "text": [
        "\n"
       ]
      }
     ],
     "prompt_number": 6
    },
    {
     "cell_type": "markdown",
     "metadata": {},
     "source": [
      "Let's take a look at the 3rd remark from June. Note that the \"first\" remark is at the 0 index, so to get the third remark ask for the remark at index 2."
     ]
    },
    {
     "cell_type": "code",
     "collapsed": false,
     "input": [
      "remarks_dict['06'][2]"
     ],
     "language": "python",
     "metadata": {},
     "outputs": [
      {
       "metadata": {},
       "output_type": "pyout",
       "prompt_number": 43,
       "text": [
        "u'The news of the murder of these three Israeli teenagers -- Naftali Fraenkel, Gilad Shaar, and Eyal Yifrach -- is simply devastating. We all had so much hope that this story would not end this way. As a father, there are no words to express such a horrific loss that shakes all people of conscience. We pray for these three boys and their families, and together we grieve with all the people of Israel. Knowing that Naftali was also an American citizen makes this an especially heavy blow not just to Israel, but to the United States.We condemn this despicable terrorist act in the strongest possible terms. The killing of innocent youths is an outrage beyond any understanding or rationale, and the perpetrators must be brought to justice. This is a time for all to work towards that goal without destabilizing the situation.'"
       ]
      }
     ],
     "prompt_number": 43
    }
   ],
   "metadata": {}
  }
 ]
}